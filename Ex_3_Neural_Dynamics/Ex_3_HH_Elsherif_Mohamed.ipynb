{
 "cells": [
  {
   "cell_type": "markdown",
   "metadata": {
    "tags": []
   },
   "source": [
    "# Programming Exercise 3B: Hodgkin-Huxley Model\n",
    "\n",
    "In this exercise, we implement the Hodgkin-Huxley model that we discussed in the lecture. The model is governed by the following set of equations:\n",
    "\n",
    "$$\n",
    "\\begin{align}\n",
    "\tC_m \\frac{\\operatorname{d}V}{\\operatorname{d}t}\n",
    "\t\t&=  I_e\\left(t\\right)  -\\bar{g}_L \\left( V -E_L\\right) -\\bar{g}_\\text{Na} m^3 h \\left( V -E_\\text{Na}\\right) \t-\\bar{g}_\\text{K} n^4 \\left( V -E_\\text{K}\\right)\n",
    "\t\\label{eq:HHModel}, \\\\\n",
    "\t\\frac{\\operatorname{d}m}{\\operatorname{d}t}\t\n",
    "\t&= \\alpha_m \\left( 1-m\\right) -\\beta_m m,\\\\\n",
    "\t\\alpha_m\n",
    "\t&=\\left\\{\n",
    "\t\t\\begin{array}{l l}\n",
    "    \t\t\t0.1 \\frac{ V -25 }{1-\\exp \\left( - \\frac{ V-25}{10} \\right)},  & \\quad V \\neq 25mV\\\\\n",
    "    \t\t\t1, & \\quad V = 25mV,\\\\\n",
    "  \t\t\\end{array}\n",
    "    \t\\right. \\\\    \t\n",
    "\t\\beta_m\n",
    "\t&= 4 \\exp \\left( - \\frac{V}{18}\\right), \\\\\n",
    "\t \\frac{\\operatorname{d}h}{\\operatorname{d}t}\t\n",
    "\t &= \\alpha_h \\left( 1-h\\right) -\\beta_h h, \\\\\n",
    " \\alpha_h\n",
    " \t&=  0.07 \\exp \\left( -\\frac{V}{20} \\right), \\\\\n",
    "\t  \\beta_h\n",
    "\t  &= \\frac{1}{1+ \\exp \\left( -\\frac{V-30}{10}\\right) },\t\t\\\\\n",
    "\t\\frac{\\operatorname{d}n}{\\operatorname{d}t}\t\n",
    "\t&= \\alpha_n \\left( 1-n\\right) -\\beta_n n, \\\\\n",
    "\t\\alpha_n \t&=\\left\\{\n",
    "\t\t\\begin{array}{l l}\n",
    "    \t\t\t0.01 \\frac{ V -10}{1-\\exp \\left( - \\frac{ V-10}{10} \\right)},  & \\quad V \\neq 10mV\\\\\n",
    "    \t\t\t0.1, & \\quad V = 10mV,\\\\\n",
    "  \t\t\\end{array}\n",
    "    \t\\right. \\\\\n",
    "\t \\quad\t\\beta_n\n",
    "\t &= 0.125 \\exp \\left( - \\frac{V}{80}\\right).\n",
    "\\end{align}\n",
    "$$"
   ]
  },
  {
   "cell_type": "markdown",
   "metadata": {},
   "source": [
    "We assume the electrical properties\n",
    "<ul>\n",
    "<li>$C_m = 1 \\mu F $, membrane capacitance,</li>\n",
    "\n",
    "<li>$E_\\text{Na} = 115 mV$, sodium equilibrium potential,</li>\n",
    "\n",
    "<li>$E_\\text{K} = -12 mV$, potassium equilibrium potential,</li>\n",
    "\n",
    "<li>$E_\\text{L} = 10.6 mV$, leak equilibrium potential,</li>\n",
    "\n",
    "<li>$V\\left(0\\right)=0mV$, (starting) membrane resting potential,</li>\n",
    "\n",
    "<li>$\\bar{g}_\\text{Na} = 120  mS$, maximum conductance for sodium channel,</li>\n",
    "\n",
    "<li>$\\bar{g}_\\text{K} = 36  mS$, maximum conductance for potassium channel,</li>\n",
    "\n",
    "<li>$\\bar{g}_\\text{L} = 0.3  mS$, maximum leak conductance.</li>\n",
    "</ul>\n",
    "\n",
    "**When implementing the model, we drop all units.** This will simplify the implementation and remove a possible source of bugs. This also pertains to the equations above; the voltage is measured in mV in all equations in this notebook."
   ]
  },
  {
   "cell_type": "markdown",
   "metadata": {},
   "source": [
    "<div class=\"alert alert-block alert-success\">\n",
    "<b>Task:</b> Implement the electrical parameters.\n",
    "</div>"
   ]
  },
  {
   "cell_type": "code",
   "execution_count": 1,
   "metadata": {},
   "outputs": [],
   "source": [
    "import numpy as np\n",
    "import matplotlib.pyplot as plt\n",
    "\n",
    "### YOUR CODE HERE ###\n",
    "\n",
    "C_m = 1 #uF\n",
    "E_Na = 115 #mV\n",
    "E_K = -12 #mV\n",
    "E_L = 10.6 #mV\n",
    "V_0 = 0 #mV\n",
    "g_Na = 120 #mS\n",
    "g_K = 36 #mS\n",
    "g_L = 0.3 #mS\n",
    "\n",
    "### YOUR CODE HERE ###"
   ]
  },
  {
   "cell_type": "markdown",
   "metadata": {},
   "source": [
    "The equations above can be interpreted hierachically. The values $\\alpha$ and $\\beta$ are needed to compute the gating variables and the gating variables are needed to compute the derivative of the membrane potential.\n",
    "\n",
    "To implement the many little functions, we will use Python's lambda calculus. If you are unfamiliar, here is a short introduction: https://www.w3schools.com/python/python_lambda.asp. In our case, it simply let's us write our functions as one-liners."
   ]
  },
  {
   "cell_type": "markdown",
   "metadata": {},
   "source": [
    "<div class=\"alert alert-block alert-success\">\n",
    "<b>Task:</b> Write the remaining lambda functions necessary to compute the derivatives of all gating variables.\n",
    "</div>"
   ]
  },
  {
   "cell_type": "code",
   "execution_count": 2,
   "metadata": {},
   "outputs": [],
   "source": [
    "### YOUR CODE HERE ###\n",
    "\n",
    "alpha_m = lambda V : 1 if V == 25 else 0.1 * (V - 25) / (1 - np.exp(- (V - 25) / 10))\n",
    "beta_m = lambda V : 4 * np.exp(- V / 18)\n",
    "dm_dt = lambda m, V : alpha_m(V) * (1 - m) - beta_m(V) * m\n",
    "\n",
    "alpha_h = lambda V: 0.07 * np.exp(-V / 20)\n",
    "beta_h = lambda V: 1 / (1 + np.exp(-(V - 30) / 10))\n",
    "dh_dt = lambda h, V: alpha_h(V) * (1 - h) - beta_h(V) * h\n",
    "\n",
    "alpha_n = lambda V: 0.01 * (V - 10) / (1 - np.exp(-(V - 10) / 10)) if V != 10 else 0.1\n",
    "beta_n = lambda V: 0.125 * np.exp(-V / 80)\n",
    "dn_dt = lambda n, V: alpha_n(V) * (1 - n) - beta_n(V) * n\n",
    "\n",
    "### YOUR CODE HERE ###"
   ]
  },
  {
   "cell_type": "markdown",
   "metadata": {},
   "source": [
    "Assume that, at the beginning of the simulation, the voltage is given by $V_0 = E_m = 0mV$. In the resting state, we do not want the gating variables to change; thus, we need to start our model not only at resting potential $V_0$, but also at the steady-state values for the gating variables $m$, $h$, and $n$ at potential $V_0$. We saw in the lecture, that the steady-state values for a given voltage $V$ are\n",
    "$$\n",
    "x(\\infty) = \\frac{\\alpha_x(V)}{\\alpha_x(V) + \\beta_x(V)},\n",
    "$$\n",
    "where $x \\in \\{ m,h,n \\}$."
   ]
  },
  {
   "cell_type": "markdown",
   "metadata": {},
   "source": [
    "<div class=\"alert alert-block alert-success\">\n",
    "<b>Task:</b> Write lambda functions to compute the steady-state solution for all gating variables as a function of V.\n",
    "</div>"
   ]
  },
  {
   "cell_type": "code",
   "execution_count": 3,
   "metadata": {
    "pycharm": {
     "name": "#%%\n"
    }
   },
   "outputs": [],
   "source": [
    "### YOUR CODE HERE ###\n",
    "\n",
    "# Steady-state functions\n",
    "m_inf = lambda V: alpha_m(V) / (alpha_m(V) + beta_m(V))\n",
    "h_inf = lambda V: alpha_h(V) / (alpha_h(V) + beta_h(V))\n",
    "n_inf = lambda V: alpha_n(V) / (alpha_n(V) + beta_n(V))\n",
    "    \n",
    "### YOUR CODE HERE ###"
   ]
  },
  {
   "cell_type": "markdown",
   "metadata": {},
   "source": [
    "At this point, we have implemented all model equations except for the voltage's derivative. Let's implement it for given values of $I_e$, $m$, $h$ and $n$."
   ]
  },
  {
   "cell_type": "markdown",
   "metadata": {},
   "source": [
    "<div class=\"alert alert-block alert-success\">\n",
    "<b>Task:</b> Complete the function dV_dt() to compute the derivative of the voltage.\n",
    "</div>"
   ]
  },
  {
   "cell_type": "code",
   "execution_count": 4,
   "metadata": {
    "pycharm": {
     "name": "#%%\n"
    }
   },
   "outputs": [],
   "source": [
    "def dV_dt(V, I_e, C_m, E_L, E_Na, E_K, g_L, g_Na, g_K, m, h, n):\n",
    "    ''' Implements the voltage derivative.\n",
    "    Args:\n",
    "        V: Current Membrane potential in mV\n",
    "        I_e: Current current input in uA\n",
    "        C_m: Membrane capacitance in uF\n",
    "        E_L: Leak equilibrium potential in mV\n",
    "        E_Na: Na equilibrium potential in mV\n",
    "        E_K: K equilibrium potential in mV\n",
    "        g_L: Maximum leak conductance in mS\n",
    "        g_Na:Maximum Na conductance in mS\n",
    "        g_K: Maximum K conductance in mS\n",
    "        m: Current value for m\n",
    "        h: Current value for h\n",
    "        n: Current value for n\n",
    "\n",
    "    Returns: Derivative of the voltage\n",
    "    '''\n",
    "    \n",
    "    ### YOUR CODE HERE ###\n",
    "    \n",
    "    return (I_e - (g_L * (V - E_L) + g_Na * (m**3) * h * (V - E_Na) + g_K * (n**4) * (V - E_K))) / C_m\n",
    "\n",
    "    ### YOUR CODE HERE ###"
   ]
  },
  {
   "cell_type": "markdown",
   "metadata": {},
   "source": [
    "Consider as input a rectangle pulse current of the form\n",
    "$$\n",
    "I_e(t) = \n",
    "\\begin{cases}\n",
    "0, & (t < t_e) \\vee (t_s \\leq t) \\\\\n",
    "I_0, & (t_e \\leq t < t_s)\n",
    "\\end{cases}.\n",
    "$$"
   ]
  },
  {
   "cell_type": "markdown",
   "metadata": {},
   "source": [
    "<div class=\"alert alert-block alert-success\">\n",
    "<b>Task:</b> Complete the function rectangular_input() to implement the input current $I_e(\\cdot )$.\n",
    "</div>"
   ]
  },
  {
   "cell_type": "code",
   "execution_count": 5,
   "metadata": {
    "pycharm": {
     "name": "#%%\n"
    }
   },
   "outputs": [],
   "source": [
    "def rectangular_input(t, I_0, t_e, t_s):\n",
    "    '''Implements the rectangle-input function.\n",
    "    Args:\n",
    "        t: Time in miliseconds\n",
    "        I_0: The value of the input current\n",
    "        t_e: start time in miliseconds\n",
    "        t_e: end time in miliseconds\n",
    "\n",
    "    Returns:\n",
    "        The input current at a given time\n",
    "    '''\n",
    "    \n",
    "    ### YOUR CODE HERE ###\n",
    "    \n",
    "    return I_0 if t_e <= t < t_s else 0\n",
    "\n",
    "    ### YOUR CODE HERE ###\n"
   ]
  },
  {
   "cell_type": "markdown",
   "metadata": {},
   "source": [
    "We have now implemented all component functions. In order to simulate the HH model we use Euler's method as in Exercise 2."
   ]
  },
  {
   "cell_type": "markdown",
   "metadata": {},
   "source": [
    "<div class=\"alert alert-block alert-success\">\n",
    "<b>Task:</b> Complete the function simulate_HH() so that it returns the time-dependent membrane potential for a given time interval.\n",
    "    \n",
    "<i>Hint:</i> Start your model at $V_0$ and set the gating variables to the corresponding steady-state values. At each time step, update your values for the gating variables and the voltage.\n",
    "</div>"
   ]
  },
  {
   "cell_type": "code",
   "execution_count": 6,
   "metadata": {
    "pycharm": {
     "name": "#%%\n"
    }
   },
   "outputs": [],
   "source": [
    "def simulate_HH(V_0, input_current_fun, input_current_params, t_start, t_stop, delta_t,\n",
    "                C_m, E_L, E_Na, E_K, g_L, g_Na, g_K):\n",
    "    ''' Runs the HH simulation. The function should return the time axis over which the simulation was run, and the\n",
    "    voltage at each of the time steps.\n",
    "    Args:\n",
    "        V_0: Starting (resting) voltage\n",
    "        input_current_fun: Name of the input current function\n",
    "        input_current_params: List of arguments that the current input function takes after t\n",
    "        t_start: Start time of the simulation in ms\n",
    "        t_stop: End time of the simulation in ms\n",
    "        delta_t: Euler step length in ms\n",
    "        C_m: Membrane capacitance in uF\n",
    "        E_L: Leak equilibrium potential in mV\n",
    "        E_Na: Na equilibrium potential in mV\n",
    "        E_K: K equilibrium potential in mV\n",
    "        g_L: Maximum leak conductance in mS\n",
    "        g_Na:Maximum Na conductance in mS\n",
    "        g_K: Maximum K conductance in mS\n",
    "\n",
    "    Returns: time axis, voltage axis in ms and mV\n",
    "    '''\n",
    "    \n",
    "    ### YOUR CODE HERE ###\n",
    "    \n",
    "    #time_axis = np.arange(t_start, t_stop, delta_t)\n",
    "    #sol = np.zeros((len(time_axis), 5))\n",
    "    # sol is the solution in the form [V, m, h, n, I_e]\n",
    "    # Feel free to delete the code and start from scratch\n",
    "    #sol[0,:] = V_0, m_inf(V_0), h_inf(V_0), n_inf(V_0), input_current_fun(t_start, *input_current_params)\n",
    "    \n",
    "    time_axis = np.arange(t_start, t_stop, delta_t)\n",
    "    sol = np.zeros((len(time_axis), 5))  # [V, m, h, n, I_e]\n",
    "    sol[0, :] = V_0, m_inf(V_0), h_inf(V_0), n_inf(V_0), input_current_fun(t_start, *input_current_params)\n",
    "\n",
    "    for i in range(1, len(time_axis)):\n",
    "        t = time_axis[i]\n",
    "        I_e = input_current_fun(t, *input_current_params)\n",
    "        V, m, h, n = sol[i - 1, :4]\n",
    "        \n",
    "        # Update gating variables\n",
    "        m += dm_dt(m, V) * delta_t\n",
    "        h += dh_dt(h, V) * delta_t\n",
    "        n += dn_dt(n, V) * delta_t\n",
    "        \n",
    "        # Update voltage\n",
    "        V += dV_dt(V, I_e, C_m, E_L, E_Na, E_K, g_L, g_Na, g_K, m, h, n) * delta_t\n",
    "        \n",
    "        sol[i, :] = V, m, h, n, I_e\n",
    "\n",
    "    return time_axis, sol[:, 0]  # Return time and voltage\n",
    "    \n",
    "    ### YOUR CODE HERE ###"
   ]
  },
  {
   "cell_type": "markdown",
   "metadata": {},
   "source": [
    "Let's set the values of the input-current parameters as $t_e = 50ms$ and $t_s = 300ms$. Then we run the simulation for $500ms$ for different values of the input current $I_0$, namely\n",
    "<ul>\n",
    "  <li>$0\\mu A$,</li>\n",
    "  <li>$3\\mu A$,</li>\n",
    "  <li>$6\\mu A$,</li>\n",
    "  <li>$8\\mu A$.</li>\n",
    "\n",
    "</ul>"
   ]
  },
  {
   "cell_type": "code",
   "execution_count": 7,
   "metadata": {
    "pycharm": {
     "name": "#%%\n"
    }
   },
   "outputs": [],
   "source": [
    "t_start, t_stop, delta_t = 0, 500, 0.025 #ms\n",
    "t_e, t_s = 50, 300 #ms\n",
    "I_0_list = [0, 3, 6, 8] #muA"
   ]
  },
  {
   "cell_type": "markdown",
   "metadata": {},
   "source": [
    "<div class=\"alert alert-block alert-success\">\n",
    "<b>Task:</b> Run the simulation for the given values, and plot the voltage against time.\n",
    "</div>"
   ]
  },
  {
   "cell_type": "code",
   "execution_count": 8,
   "metadata": {
    "pycharm": {
     "name": "#%%\n"
    }
   },
   "outputs": [
    {
     "data": {
      "image/png": "[encoded data removed]",
      "text/plain": [
       "<Figure size 864x576 with 1 Axes>"
      ]
     },
     "metadata": {
      "needs_background": "light"
     },
     "output_type": "display_data"
    }
   ],
   "source": [
    "### YOUR CODE HERE ###\n",
    "\n",
    "plt.figure(figsize=(12, 8))\n",
    "\n",
    "for I_0 in I_0_list:\n",
    "    time_axis, voltage = simulate_HH(V_0, rectangular_input, (I_0, t_e, t_s), t_start, t_stop, delta_t,\n",
    "                                      C_m, E_L, E_Na, E_K, g_L, g_Na, g_K)\n",
    "    plt.plot(time_axis, voltage, label=f'I_0 = {I_0} μA')\n",
    "    \n",
    "plt.title('Hodgkin-Huxley Model: Membrane Potential vs Time')\n",
    "plt.xlabel('Time (ms)')\n",
    "plt.ylabel('Membrane Potential (mV)')\n",
    "plt.legend()\n",
    "plt.grid(False)\n",
    "plt.show()\n",
    "\n",
    "### YOUR CODE HERE ###"
   ]
  },
  {
   "cell_type": "markdown",
   "metadata": {},
   "source": [
    "<div class=\"alert alert-block alert-success\">\n",
    "<b>Task:</b> Summarize the findings.\n",
    "</div>"
   ]
  },
  {
   "cell_type": "markdown",
   "metadata": {},
   "source": [
    "**Your Answer:**\n",
    "\n",
    "<div class=\"alert alert-warning\"> \n",
    "    \n",
    "**For I_0 = 0 μA**, the membrane potential remains near the resting potential without significant depolarization, indicating no action potential.\n",
    "\n",
    "**For I_0 = 3 μA**, the membrane potential begins to depolarize, but it doesn't fully reach the threshold.\n",
    "\n",
    "**For I_0 = 6 μA**, the membrane potential depolarizes more significantly and reaches the threshold, generaring a small action potential.\n",
    "\n",
    "**For I_0 = 8 μA**, A large action potential is generated, with a pronounced depolarization phase followed by repolarization, indicating stronger activation of the sodium channels and a more pronounced response."
   ]
  },
  {
   "cell_type": "markdown",
   "metadata": {},
   "source": [
    "Finally, it is interesting to study how the firing rate of the neuron changes with input current."
   ]
  },
  {
   "cell_type": "markdown",
   "metadata": {},
   "source": [
    "<div class=\"alert alert-block alert-success\">\n",
    "<b>Task:</b> Complete the function compute_firing_rate() to compute the number of spikes per unit time for a given solution of the HH model.\n",
    "\n",
    "<i>Hint:</i> Count the times the voltage passes a certain threshhold (only one direction!) and normalize across time. \n",
    "</div>"
   ]
  },
  {
   "cell_type": "code",
   "execution_count": 9,
   "metadata": {
    "pycharm": {
     "name": "#%%\n"
    }
   },
   "outputs": [],
   "source": [
    "def compute_firing_rate(V, delta_t, threshold, t_1, t_2):\n",
    "    ''' Computes the firing rate of a solution of the HH model.\n",
    "    Args:\n",
    "        V: The voltages over time as output by simulate_HH()\n",
    "        delta_t: The time constant used in the simulation\n",
    "        threshhold: Threshhold value that defines a spike\n",
    "        t_1: Beginning of the time interval in which spikes are counted in ms\n",
    "        t_2: End of the time interval in which spikes are counted in ms\n",
    "\n",
    "    Returns: The firing rate\n",
    "    '''\n",
    "    \n",
    "    ### YOUR CODE HERE ###\n",
    "    \n",
    "    spikes = 0\n",
    "    for i in range(1, len(V)):\n",
    "        if V[i] > threshold and V[i - 1] <= threshold:\n",
    "            spikes += 1\n",
    "    return spikes / ((t_2 - t_1) / 1000)  # Convert to spikes per second\n",
    "\n",
    "    ### YOUR CODE HERE ###"
   ]
  },
  {
   "cell_type": "markdown",
   "metadata": {},
   "source": [
    "<div class=\"alert alert-block alert-success\">\n",
    "<b>Task:</b> Compute the firing rate for input currents $I_0$ between $0\\mu A$ and $20\\mu A$ with steps of $0.5\\mu A$. Plot the firing rate against the input current. What do you observe?\n",
    "\n",
    "<i>Hint:</i> To make the plot a bit smoother, you can increase the time window in which current is injected, to get a more robust estimate of the fire rate. Keep all other parameters the same.\n",
    "\n",
    "</div>"
   ]
  },
  {
   "cell_type": "code",
   "execution_count": 10,
   "metadata": {
    "pycharm": {
     "name": "#%%\n"
    }
   },
   "outputs": [
    {
     "data": {
      "image/png": "[encoded data removed]",
      "text/plain": [
       "<Figure size 864x576 with 1 Axes>"
      ]
     },
     "metadata": {
      "needs_background": "light"
     },
     "output_type": "display_data"
    }
   ],
   "source": [
    "# Make the firing interval longer to smoothen the curve. _fr denotes the \"firing rate task\"\n",
    "t_s_fr = 500\n",
    "\n",
    "### YOUR CODE HERE ###\n",
    "\n",
    "# Input current range\n",
    "I_0_start = 0      # Starting input current in μA\n",
    "I_0_end = 20       # Ending input current in μA\n",
    "I_0_step = 0.5     # Step size in μA\n",
    "I_0_values = np.arange(I_0_start, I_0_end + I_0_step, I_0_step) \n",
    "#I_0_values = np.arange(0, 20.5, 0.5)     # Input currents from 0 to 20 μA as one line\n",
    "\n",
    "firing_rates = []\n",
    "\n",
    "for I_0 in I_0_values:\n",
    "    time_axis, voltage = simulate_HH(V_0, rectangular_input, (I_0, t_e, t_s), 0, t_s_fr, delta_t,\n",
    "                                      C_m, E_L, E_Na, E_K, g_L, g_Na, g_K)\n",
    "    firing_rate = compute_firing_rate(voltage, delta_t, threshold=0, t_1=100, t_2=t_s_fr)\n",
    "    firing_rates.append(firing_rate)\n",
    "\n",
    "plt.figure(figsize=(12, 8))\n",
    "plt.plot(I_0_values, firing_rates, marker='o')\n",
    "plt.title('Firing Rate vs Input Current')\n",
    "plt.xlabel('Input Current (μA)')\n",
    "plt.ylabel('Firing Rate (spikes/s)')\n",
    "plt.grid(False)\n",
    "plt.show()\n",
    "\n",
    "### YOUR CODE HERE ###"
   ]
  },
  {
   "cell_type": "markdown",
   "metadata": {
    "pycharm": {
     "name": "#%%\n"
    }
   },
   "source": [
    "**Your Answer:**\n",
    "\n",
    "<div class=\"alert alert-warning\"> \n",
    "I observe that as the input current increases, the firing rate of the neuron also increases. At the far right of the plot, the firing rate eventually level off or approach a maximum value as the input current increases further.\n",
    "    </div>"
   ]
  }
 ],
 "metadata": {
  "kernelspec": {
   "display_name": "Python 3",
   "language": "python",
   "name": "python3"
  },
  "language_info": {
   "codemirror_mode": {
    "name": "ipython",
    "version": 3
   },
   "file_extension": ".py",
   "mimetype": "text/x-python",
   "name": "python",
   "nbconvert_exporter": "python",
   "pygments_lexer": "ipython3",
   "version": "3.6.8"
  }
 },
 "nbformat": 4,
 "nbformat_minor": 4
}
